{
  "nbformat": 4,
  "nbformat_minor": 0,
  "metadata": {
    "colab": {
      "name": "Lesson example 2.ipynb",
      "provenance": [],
      "collapsed_sections": [],
      "authorship_tag": "ABX9TyPnrzCME1eJRRt0wnaIxrXm",
      "include_colab_link": true
    },
    "kernelspec": {
      "name": "python3",
      "display_name": "Python 3"
    },
    "language_info": {
      "name": "python"
    }
  },
  "cells": [
    {
      "cell_type": "markdown",
      "metadata": {
        "id": "view-in-github",
        "colab_type": "text"
      },
      "source": [
        "<a href=\"https://colab.research.google.com/github/cherylberger/Big-Data/blob/main/Lesson_example_2.ipynb\" target=\"_parent\"><img src=\"https://colab.research.google.com/assets/colab-badge.svg\" alt=\"Open In Colab\"/></a>"
      ]
    },
    {
      "cell_type": "code",
      "execution_count": 3,
      "metadata": {
        "colab": {
          "base_uri": "https://localhost:8080/"
        },
        "id": "vZLrOAPsIShI",
        "outputId": "fc07127a-302c-40f2-b06e-fa390ed13fb2"
      },
      "outputs": [
        {
          "output_type": "stream",
          "name": "stdout",
          "text": [
            "Get:1 https://cloud.r-project.org/bin/linux/ubuntu bionic-cran40/ InRelease [3,626 B]\n",
            "Ign:2 https://developer.download.nvidia.com/compute/cuda/repos/ubuntu1804/x86_64  InRelease\n",
            "Get:3 http://security.ubuntu.com/ubuntu bionic-security InRelease [88.7 kB]\n",
            "Hit:4 http://ppa.launchpad.net/c2d4u.team/c2d4u4.0+/ubuntu bionic InRelease\n",
            "Hit:5 http://archive.ubuntu.com/ubuntu bionic InRelease\n",
            "Ign:6 https://developer.download.nvidia.com/compute/machine-learning/repos/ubuntu1804/x86_64  InRelease\n",
            "Hit:7 https://developer.download.nvidia.com/compute/cuda/repos/ubuntu1804/x86_64  Release\n",
            "Hit:8 https://developer.download.nvidia.com/compute/machine-learning/repos/ubuntu1804/x86_64  Release\n",
            "Get:9 http://archive.ubuntu.com/ubuntu bionic-updates InRelease [88.7 kB]\n",
            "Hit:10 http://ppa.launchpad.net/cran/libgit2/ubuntu bionic InRelease\n",
            "Get:11 http://ppa.launchpad.net/deadsnakes/ppa/ubuntu bionic InRelease [15.9 kB]\n",
            "Get:12 http://archive.ubuntu.com/ubuntu bionic-backports InRelease [74.6 kB]\n",
            "Hit:13 http://ppa.launchpad.net/graphics-drivers/ppa/ubuntu bionic InRelease\n",
            "Get:16 http://security.ubuntu.com/ubuntu bionic-security/main amd64 Packages [2,628 kB]\n",
            "Get:17 http://archive.ubuntu.com/ubuntu bionic-updates/universe amd64 Packages [2,256 kB]\n",
            "Get:18 http://ppa.launchpad.net/deadsnakes/ppa/ubuntu bionic/main amd64 Packages [45.3 kB]\n",
            "Get:19 http://security.ubuntu.com/ubuntu bionic-security/restricted amd64 Packages [829 kB]\n",
            "Get:20 http://archive.ubuntu.com/ubuntu bionic-updates/restricted amd64 Packages [863 kB]\n",
            "Get:21 http://security.ubuntu.com/ubuntu bionic-security/universe amd64 Packages [1,478 kB]\n",
            "Get:22 http://archive.ubuntu.com/ubuntu bionic-updates/main amd64 Packages [3,067 kB]\n",
            "Fetched 11.4 MB in 14s (825 kB/s)\n",
            "Reading package lists... Done\n"
          ]
        }
      ],
      "source": [
        "import os\n",
        "# Find the latest version of spark 3.0  from http://www.apache.org/dist/spark/ and enter as the spark version\n",
        "# For example:\n",
        "# spark_version = 'spark-3.0.3'\n",
        "spark_version = 'spark-3.2.1'\n",
        "os.environ['SPARK_VERSION']=spark_version\n",
        "\n",
        "# Install Spark and Java\n",
        "!apt-get update\n",
        "!apt-get install openjdk-11-jdk-headless -qq > /dev/null\n",
        "!wget -q http://www.apache.org/dist/spark/$SPARK_VERSION/$SPARK_VERSION-bin-hadoop2.7.tgz\n",
        "!tar xf $SPARK_VERSION-bin-hadoop2.7.tgz\n",
        "!pip install -q findspark\n",
        "\n",
        "# Set Environment Variables\n",
        "import os\n",
        "os.environ[\"JAVA_HOME\"] = \"/usr/lib/jvm/java-11-openjdk-amd64\"\n",
        "os.environ[\"SPARK_HOME\"] = f\"/content/{spark_version}-bin-hadoop2.7\"\n",
        "\n",
        "# Start a SparkSession\n",
        "import findspark\n",
        "findspark.init()"
      ]
    },
    {
      "cell_type": "code",
      "execution_count": 4,
      "metadata": {
        "id": "KqGSZuR-qFWF"
      },
      "outputs": [],
      "source": [
        "# Start Spark session\n",
        "from pyspark.sql import SparkSession\n",
        "spark = SparkSession.builder.appName(\"DataFrameFunctions\").getOrCreate()"
      ]
    },
    {
      "cell_type": "code",
      "source": [
        "# Read in data from S3 Buckets\n",
        "from pyspark import SparkFiles\n",
        "url =\"https://s3.amazonaws.com/dataviz-curriculum/day_1/wine.csv\"\n",
        "spark.sparkContext.addFile(url)\n",
        "df = spark.read.csv(SparkFiles.get(\"wine.csv\"), sep=\",\", header=True)\n",
        "\n",
        "# Show DataFrame\n",
        "df.show()"
      ],
      "metadata": {
        "colab": {
          "base_uri": "https://localhost:8080/"
        },
        "id": "XgVucyL3qKtr",
        "outputId": "ddcd3518-677f-47d2-9ab0-21dd10da80ff"
      },
      "execution_count": 5,
      "outputs": [
        {
          "output_type": "stream",
          "name": "stdout",
          "text": [
            "+-------+--------------------+--------------------+------+-----+------------------+--------------------+-----------------+------------------+--------------------+\n",
            "|country|         description|         designation|points|price|          province|            region_1|         region_2|           variety|              winery|\n",
            "+-------+--------------------+--------------------+------+-----+------------------+--------------------+-----------------+------------------+--------------------+\n",
            "|     US|This tremendous 1...|   Martha's Vineyard|    96|  235|        California|         Napa Valley|             Napa|Cabernet Sauvignon|               Heitz|\n",
            "|  Spain|Ripe aromas of fi...|Carodorum Selecci...|    96|  110|    Northern Spain|                Toro|             null|     Tinta de Toro|Bodega Carmen Rod...|\n",
            "|     US|Mac Watson honors...|Special Selected ...|    96|   90|        California|      Knights Valley|           Sonoma|   Sauvignon Blanc|            Macauley|\n",
            "|     US|This spent 20 mon...|             Reserve|    96|   65|            Oregon|   Willamette Valley|Willamette Valley|        Pinot Noir|               Ponzi|\n",
            "| France|This is the top w...|         La Br��lade|    95|   66|          Provence|              Bandol|             null|Provence red blend|Domaine de la B̩gude|\n",
            "|  Spain|Deep, dense and p...|           Numanthia|    95|   73|    Northern Spain|                Toro|             null|     Tinta de Toro|           Numanthia|\n",
            "|  Spain|Slightly gritty b...|          San Rom��n|    95|   65|    Northern Spain|                Toro|             null|     Tinta de Toro|            Maurodos|\n",
            "|  Spain|Lush cedary black...|Carodorum �_nico ...|    95|  110|    Northern Spain|                Toro|             null|     Tinta de Toro|Bodega Carmen Rod...|\n",
            "|     US|This re-named vin...|              Silice|    95|   65|            Oregon|  Chehalem Mountains|Willamette Valley|        Pinot Noir|           Bergstr̦m|\n",
            "|     US|The producer sour...|Gap's Crown Vineyard|    95|   60|        California|        Sonoma Coast|           Sonoma|        Pinot Noir|           Blue Farm|\n",
            "|  Italy|Elegance, complex...|  Ronco della Chiesa|    95|   80|Northeastern Italy|              Collio|             null|          Friulano|    Borgo del Tiglio|\n",
            "|     US|From 18-year-old ...|Estate Vineyard W...|    95|   48|            Oregon|        Ribbon Ridge|Willamette Valley|        Pinot Noir|Patricia Green Ce...|\n",
            "|     US|A standout even i...|      Weber Vineyard|    95|   48|            Oregon|        Dundee Hills|Willamette Valley|        Pinot Noir|Patricia Green Ce...|\n",
            "| France|This wine is in p...|Ch̢teau Montus Pr...|    95|   90|  Southwest France|             Madiran|             null|            Tannat|   Vignobles Brumont|\n",
            "|     US|With its sophisti...|      Grace Vineyard|    95|  185|            Oregon|        Dundee Hills|Willamette Valley|        Pinot Noir|      Domaine Serene|\n",
            "|     US|First made in 200...|              Sigrid|    95|   90|            Oregon|   Willamette Valley|Willamette Valley|        Chardonnay|           Bergstr̦m|\n",
            "|     US|This blockbuster,...|     Rainin Vineyard|    95|  325|        California|Diamond Mountain ...|             Napa|Cabernet Sauvignon|                Hall|\n",
            "|  Spain|Nicely oaked blac...|6 A̱os Reserva Pr...|    95|   80|    Northern Spain|    Ribera del Duero|             null|       Tempranillo|            Valduero|\n",
            "| France|Coming from a sev...|       Le Pigeonnier|    95|  290|  Southwest France|              Cahors|             null|            Malbec|  Ch̢teau Lagr̩zette|\n",
            "|     US|This fresh and li...|Gap's Crown Vineyard|    95|   75|        California|        Sonoma Coast|           Sonoma|        Pinot Noir|        Gary Farrell|\n",
            "+-------+--------------------+--------------------+------+-----+------------------+--------------------+-----------------+------------------+--------------------+\n",
            "only showing top 20 rows\n",
            "\n"
          ]
        }
      ]
    },
    {
      "cell_type": "code",
      "source": [
        "# Order a DataFrame by ascending values (transformations)\n",
        "df.orderBy(df[\"points\"].desc())"
      ],
      "metadata": {
        "colab": {
          "base_uri": "https://localhost:8080/"
        },
        "id": "xycFm8pcrAo9",
        "outputId": "df744d84-49fc-4206-e1bb-a49312a92c71"
      },
      "execution_count": 6,
      "outputs": [
        {
          "output_type": "execute_result",
          "data": {
            "text/plain": [
              "DataFrame[country: string, description: string, designation: string, points: string, price: string, province: string, region_1: string, region_2: string, variety: string, winery: string]"
            ]
          },
          "metadata": {},
          "execution_count": 6
        }
      ]
    },
    {
      "cell_type": "code",
      "source": [
        "# Order a DataFrame by ascending values and show the data (actions)\n",
        "df.orderBy(df[\"points\"].desc()).show(5)\n"
      ],
      "metadata": {
        "colab": {
          "base_uri": "https://localhost:8080/"
        },
        "id": "Ut558PSKrA6r",
        "outputId": "b43d5aef-143b-4ea0-a137-43d914ac8631"
      },
      "execution_count": 7,
      "outputs": [
        {
          "output_type": "stream",
          "name": "stdout",
          "text": [
            "+-------+--------------------+--------------------+------+-----+----------+-----------+--------+--------------------+--------------------+\n",
            "|country|         description|         designation|points|price|  province|   region_1|region_2|             variety|              winery|\n",
            "+-------+--------------------+--------------------+------+-----+----------+-----------+--------+--------------------+--------------------+\n",
            "|     US|This is an absolu...|           IX Estate|    99|  290|California|Napa Valley|    Napa|           Red Blend|              Colgin|\n",
            "| France|98-100 Barrel sam...|       Barrel sample|    99| null|  Bordeaux|   Pauillac|    null|Bordeaux-style Re...|Ch̢teau Pontet-Canet|\n",
            "|     US|There are incredi...|Elevation 1147 Es...|    99|  150|California|Napa Valley|    Napa|  Cabernet Sauvignon|        David Arthur|\n",
            "| France|A magnificent Cha...|Dom P̩rignon Oeno...|    99|  385| Champagne|  Champagne|    null|     Champagne Blend|     Mo��t & Chandon|\n",
            "|  Italy|Even better than ...|             Masseto|    99|  250|   Tuscany|    Toscana|    null|              Merlot|Tenuta dell'Ornel...|\n",
            "+-------+--------------------+--------------------+------+-----+----------+-----------+--------+--------------------+--------------------+\n",
            "only showing top 5 rows\n",
            "\n"
          ]
        }
      ]
    },
    {
      "cell_type": "code",
      "source": [
        "# Order a DataFrame by ascending values and show the data (actions)\n",
        "df.orderBy(df[\"points\"].desc()).show(50)\n"
      ],
      "metadata": {
        "colab": {
          "base_uri": "https://localhost:8080/"
        },
        "outputId": "80e0d176-96ae-4aa6-8e91-8a4cce5e1017",
        "id": "JuxRXlixrudQ"
      },
      "execution_count": 8,
      "outputs": [
        {
          "output_type": "stream",
          "name": "stdout",
          "text": [
            "+--------+--------------------+--------------------+------+-----+------------+--------------------+---------------+--------------------+--------------------+\n",
            "| country|         description|         designation|points|price|    province|            region_1|       region_2|             variety|              winery|\n",
            "+--------+--------------------+--------------------+------+-----+------------+--------------------+---------------+--------------------+--------------------+\n",
            "|   Italy|Even better than ...|             Masseto|    99|  250|     Tuscany|             Toscana|           null|              Merlot|Tenuta dell'Ornel...|\n",
            "|   Italy|This sweet wine f...|   Occhio di Pernice|    99|  237|     Tuscany|Vin Santo di Mont...|           null|    Prugnolo Gentile|          Avignonesi|\n",
            "|      US|Depth and texture...|Royal City Stoner...|    99|  140|  Washington|Columbia Valley (WA)|Columbia Valley|               Syrah|       Charles Smith|\n",
            "|  France|98-100 Barrel sam...|       Barrel sample|    99| null|    Bordeaux|            Pauillac|           null|Bordeaux-style Re...|Ch̢teau Pontet-Canet|\n",
            "|  France|98-100 Barrel sam...|       Barrel sample|    99| null|    Bordeaux|           Sauternes|           null|Bordeaux-style Wh...|     Ch̢teau d'Yquem|\n",
            "|  France|98-100 Barrel Sam...|       Barrel sample|    99| null|    Bordeaux|            Pauillac|           null|Bordeaux-style Re...|      Ch̢teau Latour|\n",
            "|      US|This is an absolu...|           IX Estate|    99|  290|  California|         Napa Valley|           Napa|           Red Blend|              Colgin|\n",
            "|  France|98-100 Barrel sam...|       Barrel sample|    99| null|    Bordeaux|             Margaux|           null|Bordeaux-style Re...|      Ch̢teau Palmer|\n",
            "|   Italy|The 2007 Ornellai...|           Ornellaia|    99|  200|     Tuscany|  Bolgheri Superiore|           null|           Red Blend|Tenuta dell'Ornel...|\n",
            "|      US|This is nearly pe...|             Reserve|    99|  100|  California|  Oak Knoll District|           Napa|  Cabernet Sauvignon|           Trefethen|\n",
            "|  France|Dense and rich bu...|         La Landonne|    99|  450|Rh̫ne Valley|          C̫te R̫tie|           null|               Syrah|           E. Guigal|\n",
            "|      US|Depth and texture...|Royal City Stoner...|    99|  140|  Washington|Columbia Valley (WA)|Columbia Valley|               Syrah|       Charles Smith|\n",
            "|  France|98-100 Barrel sam...|       Barrel sample|    99| null|    Bordeaux|            Pauillac|           null|Bordeaux-style Re...|Ch̢teau Pontet-Canet|\n",
            "|  France|Dense and rich bu...|         La Landonne|    99|  450|Rh̫ne Valley|          C̫te R̫tie|           null|               Syrah|           E. Guigal|\n",
            "|   Italy|Here's a ���wow�۝...|            Messorio|    99|  320|     Tuscany|             Toscana|           null|              Merlot|        Le Macchiole|\n",
            "|      US|Depth and texture...|Royal City Stoner...|    99|  140|  Washington|Columbia Valley (WA)|Columbia Valley|               Syrah|       Charles Smith|\n",
            "|      US|There are incredi...|Elevation 1147 Es...|    99|  150|  California|         Napa Valley|           Napa|  Cabernet Sauvignon|        David Arthur|\n",
            "|      US|The only one of t...|   Cailloux Vineyard|    99|   65|      Oregon|Walla Walla Valle...|   Oregon Other|               Syrah|              Cayuse|\n",
            "|   Italy|The 2007 Ornellai...|           Ornellaia|    99|  200|     Tuscany|  Bolgheri Superiore|           null|           Red Blend|Tenuta dell'Ornel...|\n",
            "|   Italy|Here's a ���wow�۝...|            Messorio|    99|  320|     Tuscany|             Toscana|           null|              Merlot|        Le Macchiole|\n",
            "|  France|A magnificent Cha...|Dom P̩rignon Oeno...|    99|  385|   Champagne|           Champagne|           null|     Champagne Blend|     Mo��t & Chandon|\n",
            "|      US|The only one of t...|   Cailloux Vineyard|    99|   65|      Oregon|Walla Walla Valle...|   Oregon Other|               Syrah|              Cayuse|\n",
            "|   Italy|Perfumed berry, r...|Madonna delle Grazie|    99|  200|     Tuscany|Brunello di Monta...|           null|          Sangiovese|        Il Marroneto|\n",
            "|  France|98-100 Barrel sam...|       Barrel sample|    99| null|    Bordeaux|             Margaux|           null|Bordeaux-style Re...|      Ch̢teau Palmer|\n",
            "|   Italy|Here's a ���wow�۝...|            Messorio|    99|  320|     Tuscany|             Toscana|           null|              Merlot|        Le Macchiole|\n",
            "|  France|A magnificent Cha...|Dom P̩rignon Oeno...|    99|  385|   Champagne|           Champagne|           null|     Champagne Blend|     Mo��t & Chandon|\n",
            "|   Italy|The 2007 Ornellai...|           Ornellaia|    99|  200|     Tuscany|  Bolgheri Superiore|           null|           Red Blend|Tenuta dell'Ornel...|\n",
            "|   Italy|Elegant and compl...|          Monprivato|    99|  175|    Piedmont|              Barolo|           null|            Nebbiolo|Mascarello Giusep...|\n",
            "|      US|This expresses th...|     Hirsch Vineyard|    99|   75|  California|        Sonoma Coast|         Sonoma|          Pinot Noir|     Williams Selyem|\n",
            "|      US|The aroma is deep...|                null|    99|  245|  California|         Napa Valley|           Napa|      Cabernet Blend|       Harlan Estate|\n",
            "|      US|In a vintage that...|En Chamberlin Vin...|    99|   75|      Oregon|Walla Walla Valle...|   Oregon Other|               Syrah|              Cayuse|\n",
            "|   Italy|One of Italy's mo...|           Sassicaia|    99|  235|     Tuscany|  Bolgheri Sassicaia|           null|           Red Blend|    Tenuta San Guido|\n",
            "|  France|A magnificent Cha...|Dom P̩rignon Oeno...|    99|  385|   Champagne|           Champagne|           null|     Champagne Blend|     Mo��t & Chandon|\n",
            "|      US|The only one of t...|   Cailloux Vineyard|    99|   65|      Oregon|Walla Walla Valle...|   Oregon Other|               Syrah|              Cayuse|\n",
            "|  France|98-100 Barrel sam...|       Barrel sample|    99| null|    Bordeaux|             Margaux|           null|Bordeaux-style Re...|      Ch̢teau Palmer|\n",
            "|      US|A stupendous Pino...|Precious Mountain...|    99|   94|  California|        Sonoma Coast|         Sonoma|          Pinot Noir|     Williams Selyem|\n",
            "|  France|98-100 Barrel sam...|       Barrel sample|    99| null|    Bordeaux|           Sauternes|           null|Bordeaux-style Wh...|     Ch̢teau d'Yquem|\n",
            "|  France|98-100 Barrel sam...|       Barrel sample|    99| null|    Bordeaux|           Sauternes|           null|Bordeaux-style Wh...|     Ch̢teau d'Yquem|\n",
            "|  France|98-100 Barrel sam...|       Barrel sample|    99| null|    Bordeaux|            Pauillac|           null|Bordeaux-style Re...|Ch̢teau Pontet-Canet|\n",
            "|  France|A big, powerful w...|                null|    99| 2300|    Bordeaux|            Pauillac|           null|Bordeaux-style Re...|      Ch̢teau Latour|\n",
            "|   Italy|This sweet wine f...|   Occhio di Pernice|    99|  237|     Tuscany|Vin Santo di Mont...|           null|    Prugnolo Gentile|          Avignonesi|\n",
            "|   Italy|Even better than ...|             Masseto|    99|  250|     Tuscany|             Toscana|           null|              Merlot|Tenuta dell'Ornel...|\n",
            "|  France|Dense and rich bu...|         La Landonne|    99|  450|Rh̫ne Valley|          C̫te R̫tie|           null|               Syrah|           E. Guigal|\n",
            "|      US|The flagship wine...|                null|    99|  125|  Washington|Columbia Valley (WA)|Columbia Valley|  Cabernet Sauvignon|      Quilceda Creek|\n",
            "|   Italy|This is an elegan...|       Sor�� Tild��n|    99|  440|    Piedmont|              Langhe|           null|            Nebbiolo|                Gaja|\n",
            "|   Italy|This sweet wine f...|   Occhio di Pernice|    99|  237|     Tuscany|Vin Santo di Mont...|           null|    Prugnolo Gentile|          Avignonesi|\n",
            "|   Italy|Always a standout...|   Sor�� San Lorenzo|    99|  440|    Piedmont|              Langhe|           null|            Nebbiolo|                Gaja|\n",
            "|Portugal|This is the lates...|         Barca Velha|    99|  426|       Douro|                null|           null|      Portuguese Red|    Casa Ferreirinha|\n",
            "|      US|This is Cabernet ...|            Rockfall|    99|   75|  California|    Alexander Valley|         Sonoma|  Cabernet Sauvignon|         Stonestreet|\n",
            "|      US|The aroma is deep...|                null|    99|  245|  California|         Napa Valley|           Napa|      Cabernet Blend|       Harlan Estate|\n",
            "+--------+--------------------+--------------------+------+-----+------------+--------------------+---------------+--------------------+--------------------+\n",
            "only showing top 50 rows\n",
            "\n"
          ]
        }
      ]
    },
    {
      "cell_type": "code",
      "source": [
        "# Import Functions\n",
        "from pyspark.sql.functions import avg\n",
        "df.select(avg(\"points\")).show()"
      ],
      "metadata": {
        "colab": {
          "base_uri": "https://localhost:8080/"
        },
        "id": "sRc5BjfKrBKJ",
        "outputId": "9657d90e-edc1-452c-ddf2-36119e40ee93"
      },
      "execution_count": 10,
      "outputs": [
        {
          "output_type": "stream",
          "name": "stdout",
          "text": [
            "+-----------------+\n",
            "|      avg(points)|\n",
            "+-----------------+\n",
            "|87.88834105383143|\n",
            "+-----------------+\n",
            "\n"
          ]
        }
      ]
    },
    {
      "cell_type": "code",
      "source": [
        "# Filter\n",
        "df.filter(\"price<20\").show(5)"
      ],
      "metadata": {
        "colab": {
          "base_uri": "https://localhost:8080/"
        },
        "id": "-Ul87tc6rBZQ",
        "outputId": "1c72baf2-5568-406f-d9dd-29f3e19a095e"
      },
      "execution_count": 11,
      "outputs": [
        {
          "output_type": "stream",
          "name": "stdout",
          "text": [
            "+--------+--------------------+-----------+------+-----+----------+--------------------+-----------------+--------------+--------------------+\n",
            "| country|         description|designation|points|price|  province|            region_1|         region_2|       variety|              winery|\n",
            "+--------+--------------------+-----------+------+-----+----------+--------------------+-----------------+--------------+--------------------+\n",
            "|Bulgaria|This Bulgarian Ma...|    Bergul̩|    90|   15|  Bulgaria|                null|             null|        Mavrud|        Villa Melnik|\n",
            "|   Spain|Earthy plum and c...|     Amandi|    90|   17|   Galicia|       Ribeira Sacra|             null|       Menc�_a|      Don Bernardino|\n",
            "|      US|There's a lot to ...|       null|    90|   18|California|Russian River Valley|           Sonoma|    Chardonnay|            De Loach|\n",
            "|      US|Massively fruity,...|       null|    91|   19|    Oregon|   Willamette Valley|Willamette Valley|    Pinot Gris|   Trinity Vineyards|\n",
            "|Portugal|It is the ripe da...|    Premium|    91|   15|  Alentejo|                null|             null|Portuguese Red|Adega Cooperativa...|\n",
            "+--------+--------------------+-----------+------+-----+----------+--------------------+-----------------+--------------+--------------------+\n",
            "only showing top 5 rows\n",
            "\n"
          ]
        }
      ]
    },
    {
      "cell_type": "code",
      "source": [
        "# Filter by price on certain columns\n",
        "df.filter(\"price<20\").select([\"points\", \"country\",  \"winery\", \"price\"]).show(5)"
      ],
      "metadata": {
        "colab": {
          "base_uri": "https://localhost:8080/"
        },
        "id": "5gB5A_CJrBqf",
        "outputId": "b4762809-6c93-4e6b-d52e-d91123bbfd4e"
      },
      "execution_count": 12,
      "outputs": [
        {
          "output_type": "stream",
          "name": "stdout",
          "text": [
            "+------+--------+--------------------+-----+\n",
            "|points| country|              winery|price|\n",
            "+------+--------+--------------------+-----+\n",
            "|    90|Bulgaria|        Villa Melnik|   15|\n",
            "|    90|   Spain|      Don Bernardino|   17|\n",
            "|    90|      US|            De Loach|   18|\n",
            "|    91|      US|   Trinity Vineyards|   19|\n",
            "|    91|Portugal|Adega Cooperativa...|   15|\n",
            "+------+--------+--------------------+-----+\n",
            "only showing top 5 rows\n",
            "\n"
          ]
        }
      ]
    },
    {
      "cell_type": "code",
      "source": [
        "# Filter\n",
        "df.filter(\"price<20\").show(5)\n",
        "# Filter by price on certain columns\n",
        "df.filter(\"price<20\").select(['points','country', 'winery','price']).show(5)\n",
        "\n",
        "# Filter on exact state\n",
        "df.filter(df[\"country\"] == \"US\").show()"
      ],
      "metadata": {
        "colab": {
          "base_uri": "https://localhost:8080/"
        },
        "id": "AChX4XcxrB6V",
        "outputId": "d98b167c-37cd-4577-ac3d-529d2f303e0b"
      },
      "execution_count": 13,
      "outputs": [
        {
          "output_type": "stream",
          "name": "stdout",
          "text": [
            "+--------+--------------------+-----------+------+-----+----------+--------------------+-----------------+--------------+--------------------+\n",
            "| country|         description|designation|points|price|  province|            region_1|         region_2|       variety|              winery|\n",
            "+--------+--------------------+-----------+------+-----+----------+--------------------+-----------------+--------------+--------------------+\n",
            "|Bulgaria|This Bulgarian Ma...|    Bergul̩|    90|   15|  Bulgaria|                null|             null|        Mavrud|        Villa Melnik|\n",
            "|   Spain|Earthy plum and c...|     Amandi|    90|   17|   Galicia|       Ribeira Sacra|             null|       Menc�_a|      Don Bernardino|\n",
            "|      US|There's a lot to ...|       null|    90|   18|California|Russian River Valley|           Sonoma|    Chardonnay|            De Loach|\n",
            "|      US|Massively fruity,...|       null|    91|   19|    Oregon|   Willamette Valley|Willamette Valley|    Pinot Gris|   Trinity Vineyards|\n",
            "|Portugal|It is the ripe da...|    Premium|    91|   15|  Alentejo|                null|             null|Portuguese Red|Adega Cooperativa...|\n",
            "+--------+--------------------+-----------+------+-----+----------+--------------------+-----------------+--------------+--------------------+\n",
            "only showing top 5 rows\n",
            "\n",
            "+------+--------+--------------------+-----+\n",
            "|points| country|              winery|price|\n",
            "+------+--------+--------------------+-----+\n",
            "|    90|Bulgaria|        Villa Melnik|   15|\n",
            "|    90|   Spain|      Don Bernardino|   17|\n",
            "|    90|      US|            De Loach|   18|\n",
            "|    91|      US|   Trinity Vineyards|   19|\n",
            "|    91|Portugal|Adega Cooperativa...|   15|\n",
            "+------+--------+--------------------+-----+\n",
            "only showing top 5 rows\n",
            "\n",
            "+-------+--------------------+--------------------+------+-----+----------+--------------------+-----------------+------------------+--------------------+\n",
            "|country|         description|         designation|points|price|  province|            region_1|         region_2|           variety|              winery|\n",
            "+-------+--------------------+--------------------+------+-----+----------+--------------------+-----------------+------------------+--------------------+\n",
            "|     US|This tremendous 1...|   Martha's Vineyard|    96|  235|California|         Napa Valley|             Napa|Cabernet Sauvignon|               Heitz|\n",
            "|     US|Mac Watson honors...|Special Selected ...|    96|   90|California|      Knights Valley|           Sonoma|   Sauvignon Blanc|            Macauley|\n",
            "|     US|This spent 20 mon...|             Reserve|    96|   65|    Oregon|   Willamette Valley|Willamette Valley|        Pinot Noir|               Ponzi|\n",
            "|     US|This re-named vin...|              Silice|    95|   65|    Oregon|  Chehalem Mountains|Willamette Valley|        Pinot Noir|           Bergstr̦m|\n",
            "|     US|The producer sour...|Gap's Crown Vineyard|    95|   60|California|        Sonoma Coast|           Sonoma|        Pinot Noir|           Blue Farm|\n",
            "|     US|From 18-year-old ...|Estate Vineyard W...|    95|   48|    Oregon|        Ribbon Ridge|Willamette Valley|        Pinot Noir|Patricia Green Ce...|\n",
            "|     US|A standout even i...|      Weber Vineyard|    95|   48|    Oregon|        Dundee Hills|Willamette Valley|        Pinot Noir|Patricia Green Ce...|\n",
            "|     US|With its sophisti...|      Grace Vineyard|    95|  185|    Oregon|        Dundee Hills|Willamette Valley|        Pinot Noir|      Domaine Serene|\n",
            "|     US|First made in 200...|              Sigrid|    95|   90|    Oregon|   Willamette Valley|Willamette Valley|        Chardonnay|           Bergstr̦m|\n",
            "|     US|This blockbuster,...|     Rainin Vineyard|    95|  325|California|Diamond Mountain ...|             Napa|Cabernet Sauvignon|                Hall|\n",
            "|     US|This fresh and li...|Gap's Crown Vineyard|    95|   75|California|        Sonoma Coast|           Sonoma|        Pinot Noir|        Gary Farrell|\n",
            "|     US|Heitz has made th...|          Grignolino|    95|   24|California|         Napa Valley|             Napa|              Ros̩|               Heitz|\n",
            "|     US|The apogee of thi...|       Giallo Solare|    95|   60|California|         Edna Valley|    Central Coast|        Chardonnay|    Center of Effort|\n",
            "|     US|San Jose-based pr...|       R-Bar-R Ranch|    95|   45|California|Santa Cruz Mountains|    Central Coast|        Pinot Noir|            Comartin|\n",
            "|     US|Bergstr̦m has mad...|       Shea Vineyard|    94|   62|    Oregon|   Willamette Valley|             null|        Pinot Noir|           Bergstr̦m|\n",
            "|     US|Focused and dense...|             Abetina|    94|  105|    Oregon|   Willamette Valley|Willamette Valley|        Pinot Noir|               Ponzi|\n",
            "|     US|Cranberry, baked ...|     Garys' Vineyard|    94|   60|California|Santa Lucia Highl...|    Central Coast|        Pinot Noir|                Roar|\n",
            "|     US|This standout Roc...|     The Funk Estate|    94|   60|Washington|Walla Walla Valle...|  Columbia Valley|             Syrah|              Saviah|\n",
            "|     US|Steely and perfum...|            Babushka|    90|   37|California|Russian River Valley|           Sonoma|        Chardonnay|            Zepaltas|\n",
            "|     US|The aromas entice...| Conner Lee Vineyard|    90|   42|Washington|Columbia Valley (WA)|  Columbia Valley|        Chardonnay|                Buty|\n",
            "+-------+--------------------+--------------------+------+-----+----------+--------------------+-----------------+------------------+--------------------+\n",
            "only showing top 20 rows\n",
            "\n"
          ]
        }
      ]
    },
    {
      "cell_type": "code",
      "source": [
        ""
      ],
      "metadata": {
        "id": "oD1ZH7VOqLEi"
      },
      "execution_count": null,
      "outputs": []
    }
  ]
}